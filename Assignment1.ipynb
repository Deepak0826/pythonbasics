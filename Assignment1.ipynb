{
  "nbformat": 4,
  "nbformat_minor": 0,
  "metadata": {
    "colab": {
      "provenance": []
    },
    "kernelspec": {
      "name": "python3",
      "display_name": "Python 3"
    },
    "language_info": {
      "name": "python"
    }
  },
  "cells": [
    {
      "cell_type": "code",
      "execution_count": null,
      "metadata": {
        "id": "XG6n7fReFYIK",
        "colab": {
          "base_uri": "https://localhost:8080/"
        },
        "outputId": "9796242f-ba65-4df1-ff2d-2790c43d8610"
      },
      "outputs": [
        {
          "output_type": "stream",
          "name": "stdout",
          "text": [
            "Hello World!\n"
          ]
        }
      ],
      "source": [
        "'''Q1:What is python, and why it is popular?\n",
        "A1: Python is programming language. It is popular because of its ease of understandability and it is easy to learn. It also has huge amount of libraries,\n",
        "making it easier to do any type of work.\n",
        "\n",
        "Q2:What is an interpreter in python?\n",
        "A2: An interpreter in Python is a program that directly executes the code written by us, line by line.\n",
        "\n",
        "Q3: What are pre-defined keywords in python?\n",
        "A3: In Python, pre-defined keywords have a special meaning. Python detects them in the code we write and they are used to perform special actions.\n",
        "\n",
        "Q4: Can keywords be used as variable names?\n",
        "A4: NO. Keywords have a special meaning and can't be used a variable names.\n",
        "\n",
        "Q5: What is mutability in Python?\n",
        "A5: In Python, mutability is the ability of an object to change or modify after its creation.\n",
        "\n",
        "Q6: Why are lists mutable, tuples immutable?\n",
        "A6: Lists are mutable because they need to be able to grow or shrink in size and modify to accommodate changes.\n",
        "    Tuples are immutable because their immutability provides benefits like code security, and performance\n",
        "\n",
        "Q7: What is difference between '==' and 'is' operators in Python?\n",
        "A7: '==' operator checks the equality of values and 'is' operator checks the equality of identities.\n",
        "\n",
        "Q8: What are logical operators in Python?\n",
        "A8: Logical operators are used to combine multiple conditional statemets and take decision in Python. Three main logical operators are 'and', 'or', 'not'.\n",
        "\n",
        "Q9: What is type casting in Python?\n",
        "A9: In Python, type casting is the way of changing one data type to another data type. There are implicit and explicit type castings in Python.\n",
        "\n",
        "Q10: What is difference between implicit and explicit type casting in Python?\n",
        "A10: Implicit type casting means Python automatically converts the data type in run time. Explicit type casting means we have to explicitly tell the\n",
        "     Python to perform type casting.\n",
        "\n",
        "Q11: What is the purpose of conditional statements in python?\n",
        "A11: Conditional statements in Python are used to take decisions and for flow control of execution. They are also used for error and exception handling,\n",
        "     validation of user input and to perform complex logical functions and reasoning.\n",
        "\n",
        "Q12: How does elif statement work?\n",
        "A12: The elif statement in Python is a combination of else and if statements. It allows you to check another condition\n",
        "     if the initial if condition is false.\n",
        "     It works as follows:\n",
        "     1. The if statement checks the first condition (condition1).\n",
        "     2. If condition1 is true, the code inside the if block is executed, and the rest of the elif and else blocks are skipped.\n",
        "     3. If condition1 is false, the elif statement checks the next condition (condition2).\n",
        "     4. If condition2 is true, the code inside the elif block is executed, and the rest of the elif and else blocks are skipped.\n",
        "     5. This process continues until one of the conditions is true or the else block is reached.\n",
        "     6. If none of the conditions are true, the code inside the else block is executed.\n",
        "\n",
        "Q13: What is difference between for and while loops?\n",
        "A13: A for loop iterates over a iterable object like list or a string, whereas a while loop continues to loop over until a certain condition becomes false.\n",
        "\n",
        "Q14: Describe a scenario where a while loop is better than a for loop.\n",
        "A14: If we have to continuously run a game until the user inputs 'NO', then while loop is preferred to for loop.\n",
        "'''\n",
        "\n",
        "########################Practical Questions:\n",
        "\n",
        "#Q1:Write a python program to print 'Hello World!'.\n",
        "print('Hello World!')\n"
      ]
    },
    {
      "cell_type": "code",
      "source": [
        "#Q2: Write a python program that displays your name and age.\n",
        "print('My name is Deepak.\\nAnd my age is 28.')"
      ],
      "metadata": {
        "colab": {
          "base_uri": "https://localhost:8080/"
        },
        "id": "ro5hcunoXwWc",
        "outputId": "848f1817-1a7f-46e5-e039-f3a0b4455fe9"
      },
      "execution_count": null,
      "outputs": [
        {
          "output_type": "stream",
          "name": "stdout",
          "text": [
            "My name is Deepak.\n",
            "And my age is 28.\n"
          ]
        }
      ]
    },
    {
      "cell_type": "code",
      "source": [
        "#Q3: Write a code to print all the pre-defined keywords in python using keyword library.\n",
        "import keyword\n",
        "keywords = keyword.kwlist\n",
        "print('The pre-defined keywords in Python are:')\n",
        "for kw in keywords:\n",
        "    print(kw)\n"
      ],
      "metadata": {
        "colab": {
          "base_uri": "https://localhost:8080/"
        },
        "collapsed": true,
        "id": "LF1DttyOYgYw",
        "outputId": "799c1fe3-716d-4ef9-b1e2-98d54613a19a"
      },
      "execution_count": null,
      "outputs": [
        {
          "output_type": "stream",
          "name": "stdout",
          "text": [
            "The pre-defined keywords in Python are:\n",
            "False\n",
            "None\n",
            "True\n",
            "and\n",
            "as\n",
            "assert\n",
            "async\n",
            "await\n",
            "break\n",
            "class\n",
            "continue\n",
            "def\n",
            "del\n",
            "elif\n",
            "else\n",
            "except\n",
            "finally\n",
            "for\n",
            "from\n",
            "global\n",
            "if\n",
            "import\n",
            "in\n",
            "is\n",
            "lambda\n",
            "nonlocal\n",
            "not\n",
            "or\n",
            "pass\n",
            "raise\n",
            "return\n",
            "try\n",
            "while\n",
            "with\n",
            "yield\n"
          ]
        }
      ]
    },
    {
      "cell_type": "code",
      "source": [
        "#Q4: Write a program that checks if the given word is a python keyword.\n",
        "word = input('Enter a word: ')\n",
        "if keyword.iskeyword(word):\n",
        "    print(f'{word} is a Python keyword.')\n",
        "else:\n",
        "    print(f'{word} is not a Python keyword.')"
      ],
      "metadata": {
        "colab": {
          "base_uri": "https://localhost:8080/"
        },
        "id": "QV3DxrQjcL9U",
        "outputId": "7ccf2f34-a562-4878-ad83-55b773ce1834"
      },
      "execution_count": null,
      "outputs": [
        {
          "output_type": "stream",
          "name": "stdout",
          "text": [
            "Enter a word: hi\n",
            "hi is not a Python keyword.\n"
          ]
        }
      ]
    },
    {
      "cell_type": "code",
      "source": [
        "#Q5:  Create a list and tuple in Python, and demonstrate how attempting to change an element works differently for each.\n",
        "lst = ['a',1,3,True]\n",
        "print(lst)\n",
        "lst[0] = 'b'\n",
        "print(lst)\n",
        "tple = (1,2,3,4)\n",
        "print(tple)\n",
        "tple[0] = 2\n",
        "print(tple)"
      ],
      "metadata": {
        "colab": {
          "base_uri": "https://localhost:8080/",
          "height": 245
        },
        "collapsed": true,
        "id": "WswtDJLdedaj",
        "outputId": "cdcb711f-1298-4c3c-f313-04ff6897c296"
      },
      "execution_count": null,
      "outputs": [
        {
          "output_type": "stream",
          "name": "stdout",
          "text": [
            "['a', 1, 3, True]\n",
            "['b', 1, 3, True]\n",
            "(1, 2, 3, 4)\n"
          ]
        },
        {
          "output_type": "error",
          "ename": "TypeError",
          "evalue": "'tuple' object does not support item assignment",
          "traceback": [
            "\u001b[0;31m---------------------------------------------------------------------------\u001b[0m",
            "\u001b[0;31mTypeError\u001b[0m                                 Traceback (most recent call last)",
            "\u001b[0;32m<ipython-input-10-562273c527bc>\u001b[0m in \u001b[0;36m<cell line: 8>\u001b[0;34m()\u001b[0m\n\u001b[1;32m      6\u001b[0m \u001b[0mtple\u001b[0m \u001b[0;34m=\u001b[0m \u001b[0;34m(\u001b[0m\u001b[0;36m1\u001b[0m\u001b[0;34m,\u001b[0m\u001b[0;36m2\u001b[0m\u001b[0;34m,\u001b[0m\u001b[0;36m3\u001b[0m\u001b[0;34m,\u001b[0m\u001b[0;36m4\u001b[0m\u001b[0;34m)\u001b[0m\u001b[0;34m\u001b[0m\u001b[0;34m\u001b[0m\u001b[0m\n\u001b[1;32m      7\u001b[0m \u001b[0mprint\u001b[0m\u001b[0;34m(\u001b[0m\u001b[0mtple\u001b[0m\u001b[0;34m)\u001b[0m\u001b[0;34m\u001b[0m\u001b[0;34m\u001b[0m\u001b[0m\n\u001b[0;32m----> 8\u001b[0;31m \u001b[0mtple\u001b[0m\u001b[0;34m[\u001b[0m\u001b[0;36m0\u001b[0m\u001b[0;34m]\u001b[0m \u001b[0;34m=\u001b[0m \u001b[0;36m2\u001b[0m\u001b[0;34m\u001b[0m\u001b[0;34m\u001b[0m\u001b[0m\n\u001b[0m\u001b[1;32m      9\u001b[0m \u001b[0mprint\u001b[0m\u001b[0;34m(\u001b[0m\u001b[0mtple\u001b[0m\u001b[0;34m)\u001b[0m\u001b[0;34m\u001b[0m\u001b[0;34m\u001b[0m\u001b[0m\n",
            "\u001b[0;31mTypeError\u001b[0m: 'tuple' object does not support item assignment"
          ]
        }
      ]
    },
    {
      "cell_type": "code",
      "source": [
        "#Q6: Write a function to demonstrate the behavior of mutable and immutable arguments.\n",
        "def demonstrate_mutable_immutable(arg1, arg2, arg3):\n",
        "    \"\"\"\n",
        "    Demonstrates the behavior of mutable and immutable arguments.\n",
        "\n",
        "    Args:\n",
        "        arg1 (int): An immutable integer argument.\n",
        "        arg2 (list): A mutable list argument.\n",
        "        arg3 (tuple): An immutable tuple argument.\n",
        "    \"\"\"\n",
        "\n",
        "    # Attempt to modify the immutable integer argument\n",
        "    try:\n",
        "        arg1 += 1\n",
        "        print(\"Modified immutable integer argument:\", arg1)\n",
        "    except Exception as e:\n",
        "        print(\"Error modifying immutable integer argument:\", str(e))\n",
        "\n",
        "    # Modify the mutable list argument\n",
        "    arg2.append(4)\n",
        "    print(\"Modified mutable list argument:\", arg2)\n",
        "\n",
        "    # Attempt to modify the immutable tuple argument\n",
        "    try:\n",
        "        arg3 += (4,)\n",
        "        print(\"Modified immutable tuple argument:\", arg3)\n",
        "    except Exception as e:\n",
        "        print(\"Error modifying immutable tuple argument:\", str(e))\n",
        "\n",
        "\n",
        "# Test the function\n",
        "arg1 = 1\n",
        "arg2 = [1, 2, 3]\n",
        "arg3 = (1, 2, 3)\n",
        "\n",
        "print(\"Original arguments:\")\n",
        "print(\"arg1 (immutable integer):\", arg1)\n",
        "print(\"arg2 (mutable list):\", arg2)\n",
        "print(\"arg3 (immutable tuple):\", arg3)\n",
        "\n",
        "demonstrate_mutable_immutable(arg1, arg2, arg3)\n",
        "\n",
        "print(\"\\nArguments after function call:\")\n",
        "print(\"arg1 (immutable integer):\", arg1)\n",
        "print(\"arg2 (mutable list):\", arg2)\n",
        "print(\"arg3 (immutable tuple):\", arg3)\n"
      ],
      "metadata": {
        "id": "l25DdDwUgr4h",
        "colab": {
          "base_uri": "https://localhost:8080/"
        },
        "collapsed": true,
        "outputId": "58037c10-91ff-44d0-d781-c711c1c60052"
      },
      "execution_count": null,
      "outputs": [
        {
          "output_type": "stream",
          "name": "stdout",
          "text": [
            "Original arguments:\n",
            "arg1 (immutable integer): 1\n",
            "arg2 (mutable list): [1, 2, 3]\n",
            "arg3 (immutable tuple): (1, 2, 3)\n",
            "Modified immutable integer argument: 2\n",
            "Modified mutable list argument: [1, 2, 3, 4]\n",
            "Modified immutable tuple argument: (1, 2, 3, 4)\n",
            "\n",
            "Arguments after function call:\n",
            "arg1 (immutable integer): 1\n",
            "arg2 (mutable list): [1, 2, 3, 4]\n",
            "arg3 (immutable tuple): (1, 2, 3)\n"
          ]
        }
      ]
    },
    {
      "cell_type": "code",
      "source": [
        "#Q7: Write a function to demonstrate the behavior of mutable and immutable arguments\n",
        "#A7: Same as question 6."
      ],
      "metadata": {
        "id": "6cT6qTOOoYrk"
      },
      "execution_count": null,
      "outputs": []
    },
    {
      "cell_type": "code",
      "source": [
        "#Q8: Write a program to demonstrate the use of logical operators.\n",
        "def logical_operators(a, b):\n",
        "    \"\"\"\n",
        "    Demonstrates the use of logical operators.\n",
        "    \"\"\"\n",
        "    if a > 0 and b > 0:\n",
        "        print(\"Both a and b are positive.\")\n",
        "    if a > 0 or b > 0:\n",
        "        print(\"At least one of a or b is positive.\")\n",
        "    if not a > 0:\n",
        "        print(\"a is not positive.\")\n",
        "\n",
        "# Test the function\n",
        "logical_operators(5, -2)\n",
        "\n",
        "\n"
      ],
      "metadata": {
        "colab": {
          "base_uri": "https://localhost:8080/"
        },
        "id": "djBwYvYIp2XD",
        "outputId": "6146cb8e-4280-4826-c43f-5bd3538636ec"
      },
      "execution_count": null,
      "outputs": [
        {
          "output_type": "stream",
          "name": "stdout",
          "text": [
            "At least one of a or b is positive.\n"
          ]
        }
      ]
    },
    {
      "cell_type": "code",
      "source": [
        "#Q9: Write a Python program to convert user input from string to integer, float, and boolean types.\n",
        "user_input = input(\"Enter a value: \")\n",
        "try:\n",
        "    int_value = int(user_input)\n",
        "    print(\"Integer value:\", int_value)\n",
        "except ValueError:\n",
        "    print(\"Invalid integer input. Please enter a valid integer.\")\n",
        "try:\n",
        "    float_value = float(user_input)\n",
        "    print(\"Float value:\", float_value)\n",
        "except ValueError:\n",
        "    print(\"Invalid float input. Please enter a valid float.\")\n",
        "try:\n",
        "    bool_value = bool(user_input)\n",
        "    print(\"Boolean value:\", bool_value)\n",
        "except ValueError:\n",
        "    print(\"Invalid boolean input. Please enter a valid boolean value.\")"
      ],
      "metadata": {
        "colab": {
          "base_uri": "https://localhost:8080/"
        },
        "id": "FR5xDSr3rCIx",
        "outputId": "421ad965-1dd2-47c4-a8c0-fec4c9306fb0"
      },
      "execution_count": null,
      "outputs": [
        {
          "output_type": "stream",
          "name": "stdout",
          "text": [
            "Enter a value: -1\n",
            "Integer value: -1\n",
            "Float value: -1.0\n",
            "Boolean value: True\n"
          ]
        }
      ]
    },
    {
      "cell_type": "code",
      "source": [
        "#Q10: Write code to demonstrate type casting with list elements.\n",
        "lst = ['1', '2', '3', '4']\n",
        "print(lst)\n",
        "lst = [int(i) for i in lst]\n",
        "print(lst)"
      ],
      "metadata": {
        "colab": {
          "base_uri": "https://localhost:8080/"
        },
        "id": "sKmiK_UEro56",
        "outputId": "e2e3e4ce-8ade-42d1-da96-d831d53a64d6"
      },
      "execution_count": null,
      "outputs": [
        {
          "output_type": "stream",
          "name": "stdout",
          "text": [
            "['1', '2', '3', '4']\n",
            "[1, 2, 3, 4]\n"
          ]
        }
      ]
    },
    {
      "cell_type": "code",
      "source": [
        "#Q11: Write a program that checks if a number is positive, negative, or zero.\n",
        "num = int(input(\"Enter a number: \"))\n",
        "if num > 0:\n",
        "    print('The number is positive.')\n",
        "elif num < 0:\n",
        "  print('The number is negative.')\n",
        "else:\n",
        "  print('The number is Zero')"
      ],
      "metadata": {
        "colab": {
          "base_uri": "https://localhost:8080/"
        },
        "id": "7t5vOarb2zSZ",
        "outputId": "9fc061d7-cb54-4aca-b43d-126cde5672d1"
      },
      "execution_count": null,
      "outputs": [
        {
          "output_type": "stream",
          "name": "stdout",
          "text": [
            "Enter a number: 12\n",
            "The number is positive.\n"
          ]
        }
      ]
    },
    {
      "cell_type": "code",
      "source": [
        "#Q12:  Write a for loop to print numbers from 1 to 10.\n",
        "for i in range(1,11):\n",
        "    print(i)"
      ],
      "metadata": {
        "colab": {
          "base_uri": "https://localhost:8080/"
        },
        "collapsed": true,
        "id": "LvK84PwS1BuX",
        "outputId": "fcdad427-ba00-4af6-fb1d-c088eb49778e"
      },
      "execution_count": null,
      "outputs": [
        {
          "output_type": "stream",
          "name": "stdout",
          "text": [
            "1\n",
            "2\n",
            "3\n",
            "4\n",
            "5\n",
            "6\n",
            "7\n",
            "8\n",
            "9\n",
            "10\n"
          ]
        }
      ]
    },
    {
      "cell_type": "code",
      "source": [
        "#Q13: Write a Python program to find the sum of all even numbers between 1 and 50.\n",
        "sum = 0\n",
        "for i in range(1,51):\n",
        "    if i % 2 == 0:\n",
        "        sum += i\n",
        "print(sum)"
      ],
      "metadata": {
        "colab": {
          "base_uri": "https://localhost:8080/"
        },
        "id": "wzKivTRF2IH6",
        "outputId": "c0d7c257-999d-4910-b2a3-ff1876fb936c"
      },
      "execution_count": null,
      "outputs": [
        {
          "output_type": "stream",
          "name": "stdout",
          "text": [
            "650\n"
          ]
        }
      ]
    },
    {
      "cell_type": "code",
      "source": [
        "#Q14: Write a program to reverse a string using a while loop.\n",
        "string = input(\"Enter a string: \")\n",
        "reverse = ''\n",
        "i = len(string) - 1\n",
        "while i >= 0:\n",
        "    reverse += string[i]\n",
        "    i -= 1\n",
        "print(reverse)"
      ],
      "metadata": {
        "colab": {
          "base_uri": "https://localhost:8080/"
        },
        "id": "auPvWjt62YaH",
        "outputId": "14bc5736-08e1-45f0-94d4-ed265a5373cf"
      },
      "execution_count": null,
      "outputs": [
        {
          "output_type": "stream",
          "name": "stdout",
          "text": [
            "Enter a string: Hari\n",
            "iraH\n"
          ]
        }
      ]
    },
    {
      "cell_type": "code",
      "source": [
        "#Q15: Write a Python program to calculate the factorial of a number provided by the user using a while loop.\n",
        "num = int(input(\"Enter a number: \"))\n",
        "fact = 1\n",
        "i = 1\n",
        "while i <= num:\n",
        "    fact *= i\n",
        "    i += 1\n",
        "print(fact)"
      ],
      "metadata": {
        "colab": {
          "base_uri": "https://localhost:8080/"
        },
        "id": "K9Wo2PXg33PK",
        "outputId": "a18ac378-86a7-4d9e-8762-b46317379981"
      },
      "execution_count": null,
      "outputs": [
        {
          "output_type": "stream",
          "name": "stdout",
          "text": [
            "Enter a number: 5\n",
            "120\n"
          ]
        }
      ]
    },
    {
      "cell_type": "code",
      "source": [],
      "metadata": {
        "id": "FZ-HaK0u4SiA"
      },
      "execution_count": null,
      "outputs": []
    }
  ]
}